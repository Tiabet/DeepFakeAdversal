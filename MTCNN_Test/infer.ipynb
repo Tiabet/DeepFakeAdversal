{
 "cells": [
  {
   "cell_type": "markdown",
   "metadata": {},
   "source": [
    "# Face detection and recognition inference pipeline\n",
    "\n",
    "The following example illustrates how to use the `facenet_pytorch` python package to perform face detection and recogition on an image dataset using an Inception Resnet V1 pretrained on the VGGFace2 dataset.\n",
    "\n",
    "The following Pytorch methods are included:\n",
    "* Datasets\n",
    "* Dataloaders\n",
    "* GPU/CPU processing"
   ]
  },
  {
   "cell_type": "code",
   "metadata": {
    "ExecuteTime": {
     "end_time": "2024-11-26T07:35:44.720226Z",
     "start_time": "2024-11-26T07:35:44.708392Z"
    }
   },
   "source": [
    "# from . import mtcnn\n",
    "from mtcnn import MTCNN\n",
    "import torch\n",
    "from torch.utils.data import DataLoader\n",
    "from torchvision import datasets\n",
    "import numpy as np\n",
    "import pandas as pd\n",
    "import os\n",
    "\n",
    "workers = 0 if os.name == 'nt' else 4"
   ],
   "outputs": [],
   "execution_count": 11
  },
  {
   "cell_type": "markdown",
   "metadata": {},
   "source": [
    "#### Determine if an nvidia GPU is available"
   ]
  },
  {
   "cell_type": "code",
   "metadata": {
    "ExecuteTime": {
     "end_time": "2024-11-26T07:34:00.923726Z",
     "start_time": "2024-11-26T07:34:00.919534Z"
    }
   },
   "source": [
    "device = torch.device('cuda:0' if torch.cuda.is_available() else 'cpu')\n",
    "print('Running on device: {}'.format(device))"
   ],
   "outputs": [
    {
     "name": "stdout",
     "output_type": "stream",
     "text": [
      "Running on device: cpu\n"
     ]
    }
   ],
   "execution_count": 3
  },
  {
   "cell_type": "markdown",
   "metadata": {},
   "source": [
    "#### Define MTCNN module\n",
    "\n",
    "Default params shown for illustration, but not needed. Note that, since MTCNN is a collection of neural nets and other code, the device must be passed in the following way to enable copying of objects when needed internally.\n",
    "\n",
    "See `help(MTCNN)` for more details."
   ]
  },
  {
   "cell_type": "code",
   "metadata": {
    "ExecuteTime": {
     "end_time": "2024-11-26T07:37:01.221187Z",
     "start_time": "2024-11-26T07:37:01.195005Z"
    }
   },
   "source": [
    "mtcnn = MTCNN(\n",
    "    image_size=160, margin=0, min_face_size=20,\n",
    "    thresholds=[0.6, 0.7, 0.7], factor=0.709, post_process=True,\n",
    "    device=device\n",
    ")"
   ],
   "outputs": [],
   "execution_count": 14
  },
  {
   "cell_type": "code",
   "metadata": {
    "ExecuteTime": {
     "end_time": "2024-11-26T07:37:19.100909Z",
     "start_time": "2024-11-26T07:37:19.082331Z"
    }
   },
   "source": [
    "def collate_fn(x):\n",
    "    return x[0]\n",
    "\n",
    "dataset = datasets.ImageFolder('../data/test_images')\n",
    "dataset.idx_to_class = {i:c for c, i in dataset.class_to_idx.items()}\n",
    "loader = DataLoader(dataset, collate_fn=collate_fn, num_workers=workers)"
   ],
   "outputs": [],
   "execution_count": 15
  },
  {
   "cell_type": "markdown",
   "metadata": {},
   "source": [
    "#### Perfom MTCNN facial detection\n",
    "\n",
    "Iterate through the DataLoader object and detect faces and associated detection probabilities for each. The `MTCNN` forward method returns images cropped to the detected face, if a face was detected. By default only a single detected face is returned - to have `MTCNN` return all detected faces, set `keep_all=True` when creating the MTCNN object above.\n",
    "\n",
    "To obtain bounding boxes rather than cropped face images, you can instead call the lower-level `mtcnn.detect()` function. See `help(mtcnn.detect)` for details."
   ]
  },
  {
   "cell_type": "code",
   "metadata": {
    "ExecuteTime": {
     "end_time": "2024-11-26T14:01:13.264976Z",
     "start_time": "2024-11-26T14:01:12.446678Z"
    }
   },
   "source": [
    "from torchvision.transforms import ToTensor\n",
    "\n",
    "aligned = []\n",
    "names = []\n",
    "for x, y in loader:\n",
    "    # Convert to Tensor and normalize properly\n",
    "    # x_tensor = torch.tensor(x, dtype=torch.float32).permute(1,0,2).unsqueeze(0).to(device)\n",
    "    x_tensor = ToTensor()(x).unsqueeze(0).to(device)\n",
    "    print(f\"Tensor shape: {x_tensor.shape}, range: [{x_tensor.min()}, {x_tensor.max()}]\")\n",
    "\n",
    "    # Enable gradient computation\n",
    "    # x_tensor.requires_grad = True\n",
    "    \n",
    "    x_tensor = x_tensor.permute(0, 2, 3, 1)*255.0\n",
    "    \n",
    "    x_tensor.requires_grad = True\n",
    "\n",
    "    x_aligned, prob = mtcnn(x_tensor, return_prob=True)\n",
    "    \n",
    "    if x_aligned is not None:\n",
    "        if isinstance(prob, np.ndarray):\n",
    "            prob = prob.item()  # Extract scalar if it's a single-element array\n",
    "        print('Face detected with probability: {:8f}'.format(prob))\n",
    "        \n",
    "            \n",
    "        print(x_tensor)\n",
    "        \n",
    "        # Convert prob to a tensor (if not already) and retain it in the computation graph\n",
    "        prob_tensor = torch.tensor(prob, device=device, requires_grad=True)\n",
    "        \n",
    "        # Define the loss as the negative probability\n",
    "        loss = -prob_tensor\n",
    "\n",
    "        # Backpropagate to compute gradients\n",
    "        loss.backward()\n",
    "        \n",
    "        print(prob_tensor.grad)\n",
    "        \n",
    "        # FGSM attack: Add perturbation to the input image\n",
    "        epsilon = 0.01  # Small perturbation value\n",
    "        perturbed_image = x_tensor + epsilon * x_tensor.grad.sign()\n",
    "\n",
    "        # Ensure the perturbed image stays in valid range\n",
    "        # perturbed_image = torch.clamp(perturbed_image, 0, 1)\n",
    "        \n",
    "        aligned.append(x_aligned)\n",
    "        names.append(dataset.idx_to_class[y])"
   ],
   "outputs": [
    {
     "name": "stdout",
     "output_type": "stream",
     "text": [
      "Tensor shape: torch.Size([1, 3, 2048, 1665]), range: [0.0, 1.0]\n",
      "Face detected with probability: 0.999983\n",
      "tensor([[[[233., 216., 208.],\n",
      "          [233., 216., 208.],\n",
      "          [232., 215., 207.],\n",
      "          ...,\n",
      "          [228., 211., 203.],\n",
      "          [227., 213., 204.],\n",
      "          [228., 211., 203.]],\n",
      "\n",
      "         [[233., 216., 208.],\n",
      "          [232., 215., 207.],\n",
      "          [232., 215., 207.],\n",
      "          ...,\n",
      "          [228., 211., 203.],\n",
      "          [228., 214., 205.],\n",
      "          [229., 212., 204.]],\n",
      "\n",
      "         [[232., 215., 207.],\n",
      "          [232., 215., 207.],\n",
      "          [231., 214., 206.],\n",
      "          ...,\n",
      "          [229., 212., 204.],\n",
      "          [227., 213., 204.],\n",
      "          [230., 213., 205.]],\n",
      "\n",
      "         ...,\n",
      "\n",
      "         [[ 21.,  20.,  18.],\n",
      "          [ 22.,  21.,  19.],\n",
      "          [ 23.,  22.,  20.],\n",
      "          ...,\n",
      "          [237., 220., 210.],\n",
      "          [236., 219., 209.],\n",
      "          [238., 221., 211.]],\n",
      "\n",
      "         [[ 20.,  19.,  17.],\n",
      "          [ 20.,  19.,  17.],\n",
      "          [ 22.,  21.,  19.],\n",
      "          ...,\n",
      "          [238., 221., 211.],\n",
      "          [236., 219., 209.],\n",
      "          [237., 220., 210.]],\n",
      "\n",
      "         [[ 19.,  18.,  16.],\n",
      "          [ 19.,  18.,  16.],\n",
      "          [ 20.,  19.,  17.],\n",
      "          ...,\n",
      "          [238., 221., 211.],\n",
      "          [236., 219., 209.],\n",
      "          [235., 218., 208.]]]], requires_grad=True)\n",
      "tensor(-1.)\n"
     ]
    },
    {
     "ename": "AttributeError",
     "evalue": "'NoneType' object has no attribute 'sign'",
     "output_type": "error",
     "traceback": [
      "\u001B[1;31m---------------------------------------------------------------------------\u001B[0m",
      "\u001B[1;31mAttributeError\u001B[0m                            Traceback (most recent call last)",
      "\u001B[1;32m~\\AppData\\Local\\Temp\\ipykernel_5024\\183163609.py\u001B[0m in \u001B[0;36m<module>\u001B[1;34m\u001B[0m\n\u001B[0;32m     40\u001B[0m         \u001B[1;31m# FGSM attack: Add perturbation to the input image\u001B[0m\u001B[1;33m\u001B[0m\u001B[1;33m\u001B[0m\u001B[0m\n\u001B[0;32m     41\u001B[0m         \u001B[0mepsilon\u001B[0m \u001B[1;33m=\u001B[0m \u001B[1;36m0.01\u001B[0m  \u001B[1;31m# Small perturbation value\u001B[0m\u001B[1;33m\u001B[0m\u001B[1;33m\u001B[0m\u001B[0m\n\u001B[1;32m---> 42\u001B[1;33m         \u001B[0mperturbed_image\u001B[0m \u001B[1;33m=\u001B[0m \u001B[0mx_tensor\u001B[0m \u001B[1;33m+\u001B[0m \u001B[0mepsilon\u001B[0m \u001B[1;33m*\u001B[0m \u001B[0mx_tensor\u001B[0m\u001B[1;33m.\u001B[0m\u001B[0mgrad\u001B[0m\u001B[1;33m.\u001B[0m\u001B[0msign\u001B[0m\u001B[1;33m(\u001B[0m\u001B[1;33m)\u001B[0m\u001B[1;33m\u001B[0m\u001B[1;33m\u001B[0m\u001B[0m\n\u001B[0m\u001B[0;32m     43\u001B[0m \u001B[1;33m\u001B[0m\u001B[0m\n\u001B[0;32m     44\u001B[0m         \u001B[1;31m# Ensure the perturbed image stays in valid range\u001B[0m\u001B[1;33m\u001B[0m\u001B[1;33m\u001B[0m\u001B[0m\n",
      "\u001B[1;31mAttributeError\u001B[0m: 'NoneType' object has no attribute 'sign'"
     ]
    }
   ],
   "execution_count": 73
  },
  {
   "metadata": {
    "ExecuteTime": {
     "end_time": "2024-11-26T08:19:52.361275Z",
     "start_time": "2024-11-26T08:19:52.352466Z"
    }
   },
   "cell_type": "code",
   "source": "",
   "outputs": [],
   "execution_count": 46
  },
  {
   "metadata": {},
   "cell_type": "code",
   "outputs": [],
   "execution_count": null,
   "source": ""
  }
 ],
 "metadata": {
  "kernelspec": {
   "display_name": "Python 3",
   "language": "python",
   "name": "python3"
  },
  "language_info": {
   "codemirror_mode": {
    "name": "ipython",
    "version": 3
   },
   "file_extension": ".py",
   "mimetype": "text/x-python",
   "name": "python",
   "nbconvert_exporter": "python",
   "pygments_lexer": "ipython3",
   "version": "3.7.3"
  }
 },
 "nbformat": 4,
 "nbformat_minor": 2
}
